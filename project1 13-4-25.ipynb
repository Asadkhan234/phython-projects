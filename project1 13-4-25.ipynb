{
 "cells": [
  {
   "cell_type": "code",
   "execution_count": null,
   "id": "7cfddf86-4ca8-4139-a69f-09cfa683cb08",
   "metadata": {},
   "outputs": [
    {
     "name": "stdin",
     "output_type": "stream",
     "text": [
      "Roll The Dice (Y/N) ? y\n",
      "Enter User name :  asad\n"
     ]
    },
    {
     "name": "stdout",
     "output_type": "stream",
     "text": [
      "The User Name Is : asad\n",
      "The First Die Is : 1 . And The Second Die Is : 1\n",
      "You Lose !\n"
     ]
    },
    {
     "name": "stdin",
     "output_type": "stream",
     "text": [
      "Roll The Dice (Y/N) ? n\n"
     ]
    },
    {
     "name": "stdout",
     "output_type": "stream",
     "text": [
      "Thanks For Playing !\n"
     ]
    },
    {
     "name": "stdin",
     "output_type": "stream",
     "text": [
      "Roll The Dice (Y/N) ? sd\n"
     ]
    },
    {
     "name": "stdout",
     "output_type": "stream",
     "text": [
      "Invalid Try !\n"
     ]
    },
    {
     "name": "stdin",
     "output_type": "stream",
     "text": [
      "Roll The Dice (Y/N) ? y\n",
      "Enter User name :  asad\n"
     ]
    },
    {
     "name": "stdout",
     "output_type": "stream",
     "text": [
      "The User Name Is : asad\n",
      "The First Die Is : 2 . And The Second Die Is : 5\n",
      "You Lose !\n"
     ]
    }
   ],
   "source": [
    "import random\n",
    "while True:\n",
    "    Dice = input('Roll The Dice (Y/N) ?')\n",
    "    if Dice == 'y' or Dice == 'Y':\n",
    "        User = input('Enter User name : ')\n",
    "        print(f'The User Name Is : {User}')\n",
    "        Die1 = random.randint(1,6)\n",
    "        Die2 = random.randint(1,6)\n",
    "        print(f'The First Die Is : {Die1} . And The Second Die Is : {Die2}')\n",
    "        if Die1 == 6 or Die2 == 6:\n",
    "            print('You Won !')\n",
    "        else:\n",
    "            print('You Lose !')\n",
    "    elif Dice == 'n' or Dice == 'N':\n",
    "        print(f'Thanks For Playing !')\n",
    "    \n",
    "    else:\n",
    "        print('Invalid Try !')"
   ]
  },
  {
   "cell_type": "code",
   "execution_count": null,
   "id": "cf557238-6a06-4bee-91c6-ff6811ac26e6",
   "metadata": {},
   "outputs": [],
   "source": []
  }
 ],
 "metadata": {
  "kernelspec": {
   "display_name": "Python [conda env:base] *",
   "language": "python",
   "name": "conda-base-py"
  },
  "language_info": {
   "codemirror_mode": {
    "name": "ipython",
    "version": 3
   },
   "file_extension": ".py",
   "mimetype": "text/x-python",
   "name": "python",
   "nbconvert_exporter": "python",
   "pygments_lexer": "ipython3",
   "version": "3.12.7"
  }
 },
 "nbformat": 4,
 "nbformat_minor": 5
}
