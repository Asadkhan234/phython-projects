{
 "cells": [
  {
   "cell_type": "code",
   "execution_count": null,
   "id": "4c883c6a-4b65-46b7-ae54-4cabf4252e75",
   "metadata": {},
   "outputs": [
    {
     "name": "stdin",
     "output_type": "stream",
     "text": [
      "Enter Your Choice : Rock | Paper | Sciesor : (r/p/s) : r\n"
     ]
    },
    {
     "name": "stdout",
     "output_type": "stream",
     "text": [
      "Your Choice Is : 🧱\n",
      "Computer Choice Is : 🧱\n",
      "Tie\n"
     ]
    },
    {
     "name": "stdin",
     "output_type": "stream",
     "text": [
      "Do You Want To Paly (y/n) y\n",
      "Enter Your Choice : Rock | Paper | Sciesor : (r/p/s) : p\n"
     ]
    },
    {
     "name": "stdout",
     "output_type": "stream",
     "text": [
      "Your Choice Is : 📝\n",
      "Computer Choice Is : ✂\n",
      "You Lose\n"
     ]
    },
    {
     "name": "stdin",
     "output_type": "stream",
     "text": [
      "Do You Want To Paly (y/n) s\n",
      "Enter Your Choice : Rock | Paper | Sciesor : (r/p/s) : p\n"
     ]
    },
    {
     "name": "stdout",
     "output_type": "stream",
     "text": [
      "Your Choice Is : 📝\n",
      "Computer Choice Is : 📝\n",
      "Tie\n"
     ]
    },
    {
     "name": "stdin",
     "output_type": "stream",
     "text": [
      "Do You Want To Paly (y/n) y\n",
      "Enter Your Choice : Rock | Paper | Sciesor : (r/p/s) : s\n"
     ]
    },
    {
     "name": "stdout",
     "output_type": "stream",
     "text": [
      "Your Choice Is : ✂\n",
      "Computer Choice Is : ✂\n",
      "Tie\n"
     ]
    },
    {
     "name": "stdin",
     "output_type": "stream",
     "text": [
      "Do You Want To Paly (y/n) y\n",
      "Enter Your Choice : Rock | Paper | Sciesor : (r/p/s) : s\n"
     ]
    },
    {
     "name": "stdout",
     "output_type": "stream",
     "text": [
      "Your Choice Is : ✂\n",
      "Computer Choice Is : ✂\n",
      "Tie\n"
     ]
    }
   ],
   "source": [
    "import random\n",
    "\n",
    "emojies = {'r':'🧱','p':'📝','s':'✂'}\n",
    "choices = ('r','p','s')\n",
    "while True:\n",
    "    user_choice = input('Enter Your Choice : Rock | Paper | Sciesor : (r/p/s) :').lower()\n",
    "    if user_choice not in choices:\n",
    "        print('Invalid Choices')\n",
    "    \n",
    "    computer_choice = random.choice(choices)\n",
    "    print(f'Your Choice Is : {emojies[user_choice]}')\n",
    "    print(f'Computer Choice Is : {emojies[computer_choice]}')\n",
    "    \n",
    "    if user_choice == computer_choice:\n",
    "        print('Tie')\n",
    "    elif(\n",
    "        (user_choice == 'r' and computer_choice == 's')  or \n",
    "        (user_choice == 's' and computer_choice == 'p') or \n",
    "        (user_choice == 'p' and computer_choice == 'r')):\n",
    "        print('You Win')\n",
    "    else:\n",
    "        print('You Lose')\n",
    "\n",
    "    con = input('Do You Want To Paly (y/n)')\n",
    "    if con == 'n':\n",
    "        break\n",
    "\n",
    "   "
   ]
  },
  {
   "cell_type": "code",
   "execution_count": null,
   "id": "2eff63b3-c421-4d89-9816-6361a17df978",
   "metadata": {},
   "outputs": [],
   "source": []
  }
 ],
 "metadata": {
  "kernelspec": {
   "display_name": "Python [conda env:base] *",
   "language": "python",
   "name": "conda-base-py"
  },
  "language_info": {
   "codemirror_mode": {
    "name": "ipython",
    "version": 3
   },
   "file_extension": ".py",
   "mimetype": "text/x-python",
   "name": "python",
   "nbconvert_exporter": "python",
   "pygments_lexer": "ipython3",
   "version": "3.12.7"
  }
 },
 "nbformat": 4,
 "nbformat_minor": 5
}
